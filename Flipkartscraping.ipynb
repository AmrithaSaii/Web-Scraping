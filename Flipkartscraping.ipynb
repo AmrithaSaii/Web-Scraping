{
 "cells": [
  {
   "cell_type": "code",
   "execution_count": 1,
   "id": "78f68e02-8e4c-449b-a795-e1bbbd0500e5",
   "metadata": {},
   "outputs": [
    {
     "name": "stdout",
     "output_type": "stream",
     "text": [
      "Scraping page 1...\n",
      "Scraping page 2...\n",
      "Scraping page 3...\n",
      "Scraping completed. Data saved to flipkart_detailed.csv\n"
     ]
    }
   ],
   "source": [
    "import requests\n",
    "from bs4 import BeautifulSoup\n",
    "import pandas as pd\n",
    "import time\n",
    "import random\n",
    "\n",
    "\n",
    "user_agents=[\n",
    "     \"Mozilla/5.0 (Windows NT 10.0; Win64; x64) AppleWebKit/537.36 (KHTML, like Gecko) Chrome/91.0.4472.124 Safari/537.36\",\n",
    "    \"Mozilla/5.0 (Macintosh; Intel Mac OS X 10_15_7) AppleWebKit/537.36 (KHTML, like Gecko) Chrome/91.0.4472.124 Safari/537.36\",\n",
    "    \"Mozilla/5.0 (X11; Linux x86_64) AppleWebKit/537.36 (KHTML, like Gecko) Chrome/91.0.4472.124 Safari/537.36\",\n",
    "]\n",
    "\n",
    "url=\"https://www.flipkart.com/q/bracelets&page={page}\"\n",
    "\n",
    "\n",
    "product_names,product_prices,product_ratings=[],[],[]\n",
    "\n",
    "for page in range(1,4):\n",
    "    print(f\"Scraping page {page}...\")\n",
    "    headers={\n",
    "    \"User-Agent\":random.choice(user_agents),\n",
    "    \"Accept-Language\": \"en-US,en;q=0.9\",\n",
    "    }\n",
    "    response=requests.get(url.format(page=page),headers=headers)\n",
    "    if response.status_code!=200:\n",
    "        print(f\"Failed to fetch page {page}.Status code: {response.status_code}\")\n",
    "        continue\n",
    "    soup=BeautifulSoup(response.content, \"html.parser\")\n",
    "    product_container = soup.find(\"div\", {\"class\": \"DOjaWF gdgoEp\"})\n",
    "    if product_container:\n",
    "        for product in product_container.find_all(\"div\",{\"class\":\"_75nlfW\"}):\n",
    "            name = product.find(\"a\", {\"class\": \"WKTcLC\"})\n",
    "            price = product.find(\"div\", {\"class\": \"Nx9bqj\"})\n",
    "            rating = product.find(\"div\", {\"class\": \"yRaY8j\"})\n",
    "            \n",
    "\n",
    "            product_names.append(name.text.strip() if name else \"N/A\")\n",
    "            product_prices.append(price.text.strip() if price else \"N/A\")\n",
    "            product_ratings.append(rating.text.strip() if rating else \"N/A\")\n",
    "            \n",
    "        time.sleep(random.uniform(5,10))\n",
    "df=pd.DataFrame({\n",
    "    \"Product Name\": product_names,\n",
    "    \"Price (₹)\": product_prices,\n",
    "    \"Original Price\": product_ratings,\n",
    "    \n",
    "})\n",
    "# Saving dataframe to CSV\n",
    "df.to_csv(\"flipkart_detailed.csv\", index=False)\n",
    "print(\"Scraping completed. Data saved to flipkart_detailed.csv\")\n"
   ]
  },
  {
   "cell_type": "code",
   "execution_count": null,
   "id": "fa51d16d-57b1-464b-9aec-b345108bf6bd",
   "metadata": {},
   "outputs": [],
   "source": []
  }
 ],
 "metadata": {
  "kernelspec": {
   "display_name": "Python 3 (ipykernel)",
   "language": "python",
   "name": "python3"
  },
  "language_info": {
   "codemirror_mode": {
    "name": "ipython",
    "version": 3
   },
   "file_extension": ".py",
   "mimetype": "text/x-python",
   "name": "python",
   "nbconvert_exporter": "python",
   "pygments_lexer": "ipython3",
   "version": "3.12.7"
  }
 },
 "nbformat": 4,
 "nbformat_minor": 5
}
